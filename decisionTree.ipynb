{
 "cells": [
  {
   "cell_type": "code",
   "execution_count": 10,
   "metadata": {},
   "outputs": [],
   "source": [
    "import numpy as np\n",
    "import pandas as pd\n",
    "import math\n",
    "\n"
   ]
  },
  {
   "cell_type": "code",
   "execution_count": 11,
   "metadata": {},
   "outputs": [],
   "source": [
    "\n",
    "def readData(url, col_names):\n",
    "    return pd.read_csv(url, encoding=\"ISO-8859-1\", header=None, names=col_names)  \n",
    "        \n"
   ]
  },
  {
   "cell_type": "code",
   "execution_count": 12,
   "metadata": {},
   "outputs": [],
   "source": [
    "def Pos_Neg_Num_all(data):\n",
    "    label_column = data.keys()[-1]\n",
    "    values = data[label_column].value_counts()\n",
    "    \n",
    "    if(values.shape == (1,) and values.keys() == True):\n",
    "        p = values[True]\n",
    "        n = 0\n",
    "    elif(values.shape == (1,) and values.keys() == False):\n",
    "        p = 0\n",
    "        n = values[False]    \n",
    "    else:\n",
    "        p = values[True]\n",
    "        n = values[False]\n",
    "    return p, n\n"
   ]
  },
  {
   "cell_type": "code",
   "execution_count": 13,
   "metadata": {},
   "outputs": [],
   "source": [
    "\n",
    "def Pos_Neg_Num(data, attribute, category):\n",
    "    d = data.loc[data[attribute] == category]\n",
    "    label_column = data.keys()[-1]\n",
    "    values = d[label_column].value_counts()\n",
    "    \n",
    "    if(values.shape == (1,) and values.keys() == True):\n",
    "        p = values[True]\n",
    "        n = 0\n",
    "    elif(values.shape == (1,) and values.keys() == False):\n",
    "        p = 0\n",
    "        n = values[False]    \n",
    "    else:\n",
    "        p = values[True]\n",
    "        n = values[False]\n",
    "    return p, n\n"
   ]
  },
  {
   "cell_type": "code",
   "execution_count": 14,
   "metadata": {},
   "outputs": [],
   "source": [
    "\n",
    "def entropy(p, n):\n",
    "    t1 = p / (p+n)\n",
    "    t2 = n / (p+n)\n",
    "    \n",
    "    if(t1 == 0 or t2 == 0 ):\n",
    "        return 0.0\n",
    "    else:\n",
    "        return -( t1*math.log2(t1) + t2*math.log2(t2))\n"
   ]
  },
  {
   "cell_type": "code",
   "execution_count": 15,
   "metadata": {},
   "outputs": [],
   "source": [
    "\n",
    "\n",
    "def AverageInformationEntropy(data,  attribute):\n",
    "    I = 0.0\n",
    "    attribute_categories = data[attribute].unique()\n",
    "\n",
    "    p_all , n_all = Pos_Neg_Num_all(data)\n",
    "    \n",
    "    for cat in attribute_categories:\n",
    "        p, n = Pos_Neg_Num(data, attribute, cat)        \n",
    "        en = entropy(p, n)\n",
    "        I += ( (p+n) / (p_all+n_all )) * en\n",
    "    return I\n"
   ]
  },
  {
   "cell_type": "code",
   "execution_count": 16,
   "metadata": {},
   "outputs": [],
   "source": [
    "\n",
    "def Gain(data, attribute):\n",
    "    I = AverageInformationEntropy(data, attribute)\n",
    "    p , n = Pos_Neg_Num_all(data)\n",
    "    entropy_s = entropy(p, n)\n",
    "    return entropy_s - I\n"
   ]
  },
  {
   "cell_type": "code",
   "execution_count": 17,
   "metadata": {},
   "outputs": [],
   "source": [
    "\n",
    "def find_winner(data):\n",
    "    IG = []\n",
    "    for key in data.keys()[:-1]:\n",
    "        IG.append(Gain(data, key))\n",
    "\n",
    "    max_gain_index = np.argmax(IG)    \n",
    "    return data.keys()[:-1][max_gain_index]\n"
   ]
  },
  {
   "cell_type": "code",
   "execution_count": 18,
   "metadata": {},
   "outputs": [],
   "source": [
    "\n",
    "def buildTree(data, tree=None):\n",
    "\n",
    "    node = find_winner(data)\n",
    "\n",
    "    attributeValue = np.unique(data[node])\n",
    "\n",
    "    if tree is None:\n",
    "        tree = {}\n",
    "        tree[node] = {}\n",
    "\n",
    "    for value in attributeValue:\n",
    "        subsetData = data[data[node] == value]\n",
    "\n",
    "        clValue,counts = np.unique(subsetData[subsetData.keys()[-1]],return_counts=True)\n",
    "        if len(counts) == 1:\n",
    "            tree[node][value] = clValue[0]\n",
    "        else:\n",
    "            tree[node][value] = buildTree(subsetData)\n",
    "\n",
    "    return tree\n"
   ]
  },
  {
   "cell_type": "code",
   "execution_count": 19,
   "metadata": {},
   "outputs": [],
   "source": [
    "\n",
    "def getList(dict): \n",
    "    list = [] \n",
    "    for key in dict.keys(): \n",
    "        list.append(key) \n",
    "          \n",
    "    return list\n"
   ]
  },
  {
   "cell_type": "code",
   "execution_count": 20,
   "metadata": {},
   "outputs": [],
   "source": [
    "\n",
    "def predict(tree, ex):\n",
    "    \n",
    "    flag = None\n",
    "    k = getList(tree)\n",
    "    key = k[0]    \n",
    "    while(flag != True or False):\n",
    "        \n",
    "        tree = tree[key]\n",
    "        value = ex[key]\n",
    "        # print(key, value)\n",
    "        if tree[value] == True or tree[value] == False:\n",
    "            flag = tree[value]\n",
    "            break\n",
    "        else:\n",
    "            tree = tree[value]\n",
    "            k = getList(tree)\n",
    "            key = k[0]\n",
    "\n",
    "    return flag\n"
   ]
  },
  {
   "cell_type": "code",
   "execution_count": 21,
   "metadata": {},
   "outputs": [
    {
     "ename": "KeyError",
     "evalue": "True",
     "output_type": "error",
     "traceback": [
      "\u001b[1;31m---------------------------------------------------------------------------\u001b[0m",
      "\u001b[1;31mKeyError\u001b[0m                                  Traceback (most recent call last)",
      "File \u001b[1;32m~\\AppData\\Roaming\\Python\\Python310\\site-packages\\pandas\\core\\indexes\\base.py:3621\u001b[0m, in \u001b[0;36mIndex.get_loc\u001b[1;34m(self, key, method, tolerance)\u001b[0m\n\u001b[0;32m   <a href='file:///c%3A/Users/yash%20sankpal/AppData/Roaming/Python/Python310/site-packages/pandas/core/indexes/base.py?line=3619'>3620</a>\u001b[0m \u001b[39mtry\u001b[39;00m:\n\u001b[1;32m-> <a href='file:///c%3A/Users/yash%20sankpal/AppData/Roaming/Python/Python310/site-packages/pandas/core/indexes/base.py?line=3620'>3621</a>\u001b[0m     \u001b[39mreturn\u001b[39;00m \u001b[39mself\u001b[39;49m\u001b[39m.\u001b[39;49m_engine\u001b[39m.\u001b[39;49mget_loc(casted_key)\n\u001b[0;32m   <a href='file:///c%3A/Users/yash%20sankpal/AppData/Roaming/Python/Python310/site-packages/pandas/core/indexes/base.py?line=3621'>3622</a>\u001b[0m \u001b[39mexcept\u001b[39;00m \u001b[39mKeyError\u001b[39;00m \u001b[39mas\u001b[39;00m err:\n",
      "File \u001b[1;32m~\\AppData\\Roaming\\Python\\Python310\\site-packages\\pandas\\_libs\\index.pyx:136\u001b[0m, in \u001b[0;36mpandas._libs.index.IndexEngine.get_loc\u001b[1;34m()\u001b[0m\n",
      "File \u001b[1;32m~\\AppData\\Roaming\\Python\\Python310\\site-packages\\pandas\\_libs\\index.pyx:144\u001b[0m, in \u001b[0;36mpandas._libs.index.IndexEngine.get_loc\u001b[1;34m()\u001b[0m\n",
      "File \u001b[1;32mpandas\\_libs\\index_class_helper.pxi:41\u001b[0m, in \u001b[0;36mpandas._libs.index.Int64Engine._check_type\u001b[1;34m()\u001b[0m\n",
      "\u001b[1;31mKeyError\u001b[0m: True",
      "\nThe above exception was the direct cause of the following exception:\n",
      "\u001b[1;31mKeyError\u001b[0m                                  Traceback (most recent call last)",
      "\u001b[1;32md:\\Work\\study_material\\BDA\\mini_project\\decisionTree.ipynb Cell 12'\u001b[0m in \u001b[0;36m<module>\u001b[1;34m\u001b[0m\n\u001b[0;32m      <a href='vscode-notebook-cell:/d%3A/Work/study_material/BDA/mini_project/decisionTree.ipynb#ch0000032?line=1'>2</a>\u001b[0m data_keys \u001b[39m=\u001b[39m data\u001b[39m.\u001b[39mkeys()[:\u001b[39m-\u001b[39m\u001b[39m1\u001b[39m]\n\u001b[0;32m      <a href='vscode-notebook-cell:/d%3A/Work/study_material/BDA/mini_project/decisionTree.ipynb#ch0000032?line=3'>4</a>\u001b[0m \u001b[39mimport\u001b[39;00m \u001b[39mpprint\u001b[39;00m\n\u001b[1;32m----> <a href='vscode-notebook-cell:/d%3A/Work/study_material/BDA/mini_project/decisionTree.ipynb#ch0000032?line=4'>5</a>\u001b[0m t \u001b[39m=\u001b[39m buildTree(data)\n\u001b[0;32m      <a href='vscode-notebook-cell:/d%3A/Work/study_material/BDA/mini_project/decisionTree.ipynb#ch0000032?line=5'>6</a>\u001b[0m pprint\u001b[39m.\u001b[39mpprint(t)\n\u001b[0;32m      <a href='vscode-notebook-cell:/d%3A/Work/study_material/BDA/mini_project/decisionTree.ipynb#ch0000032?line=8'>9</a>\u001b[0m ex \u001b[39m=\u001b[39m data\u001b[39m.\u001b[39miloc[\u001b[39m5\u001b[39m, :\u001b[39m-\u001b[39m\u001b[39m1\u001b[39m]\n",
      "\u001b[1;32md:\\Work\\study_material\\BDA\\mini_project\\decisionTree.ipynb Cell 9'\u001b[0m in \u001b[0;36mbuildTree\u001b[1;34m(data, tree)\u001b[0m\n\u001b[0;32m      <a href='vscode-notebook-cell:/d%3A/Work/study_material/BDA/mini_project/decisionTree.ipynb#ch0000029?line=0'>1</a>\u001b[0m \u001b[39mdef\u001b[39;00m \u001b[39mbuildTree\u001b[39m(data, tree\u001b[39m=\u001b[39m\u001b[39mNone\u001b[39;00m):\n\u001b[1;32m----> <a href='vscode-notebook-cell:/d%3A/Work/study_material/BDA/mini_project/decisionTree.ipynb#ch0000029?line=2'>3</a>\u001b[0m     node \u001b[39m=\u001b[39m find_winner(data)\n\u001b[0;32m      <a href='vscode-notebook-cell:/d%3A/Work/study_material/BDA/mini_project/decisionTree.ipynb#ch0000029?line=4'>5</a>\u001b[0m     attributeValue \u001b[39m=\u001b[39m np\u001b[39m.\u001b[39munique(data[node])\n\u001b[0;32m      <a href='vscode-notebook-cell:/d%3A/Work/study_material/BDA/mini_project/decisionTree.ipynb#ch0000029?line=6'>7</a>\u001b[0m     \u001b[39mif\u001b[39;00m tree \u001b[39mis\u001b[39;00m \u001b[39mNone\u001b[39;00m:\n",
      "\u001b[1;32md:\\Work\\study_material\\BDA\\mini_project\\decisionTree.ipynb Cell 8'\u001b[0m in \u001b[0;36mfind_winner\u001b[1;34m(data)\u001b[0m\n\u001b[0;32m      <a href='vscode-notebook-cell:/d%3A/Work/study_material/BDA/mini_project/decisionTree.ipynb#ch0000028?line=1'>2</a>\u001b[0m IG \u001b[39m=\u001b[39m []\n\u001b[0;32m      <a href='vscode-notebook-cell:/d%3A/Work/study_material/BDA/mini_project/decisionTree.ipynb#ch0000028?line=2'>3</a>\u001b[0m \u001b[39mfor\u001b[39;00m key \u001b[39min\u001b[39;00m data\u001b[39m.\u001b[39mkeys()[:\u001b[39m-\u001b[39m\u001b[39m1\u001b[39m]:\n\u001b[1;32m----> <a href='vscode-notebook-cell:/d%3A/Work/study_material/BDA/mini_project/decisionTree.ipynb#ch0000028?line=3'>4</a>\u001b[0m     IG\u001b[39m.\u001b[39mappend(Gain(data, key))\n\u001b[0;32m      <a href='vscode-notebook-cell:/d%3A/Work/study_material/BDA/mini_project/decisionTree.ipynb#ch0000028?line=5'>6</a>\u001b[0m max_gain_index \u001b[39m=\u001b[39m np\u001b[39m.\u001b[39margmax(IG)    \n\u001b[0;32m      <a href='vscode-notebook-cell:/d%3A/Work/study_material/BDA/mini_project/decisionTree.ipynb#ch0000028?line=6'>7</a>\u001b[0m \u001b[39mreturn\u001b[39;00m data\u001b[39m.\u001b[39mkeys()[:\u001b[39m-\u001b[39m\u001b[39m1\u001b[39m][max_gain_index]\n",
      "\u001b[1;32md:\\Work\\study_material\\BDA\\mini_project\\decisionTree.ipynb Cell 7'\u001b[0m in \u001b[0;36mGain\u001b[1;34m(data, attribute)\u001b[0m\n\u001b[0;32m      <a href='vscode-notebook-cell:/d%3A/Work/study_material/BDA/mini_project/decisionTree.ipynb#ch0000027?line=0'>1</a>\u001b[0m \u001b[39mdef\u001b[39;00m \u001b[39mGain\u001b[39m(data, attribute):\n\u001b[1;32m----> <a href='vscode-notebook-cell:/d%3A/Work/study_material/BDA/mini_project/decisionTree.ipynb#ch0000027?line=1'>2</a>\u001b[0m     I \u001b[39m=\u001b[39m AverageInformationEntropy(data, attribute)\n\u001b[0;32m      <a href='vscode-notebook-cell:/d%3A/Work/study_material/BDA/mini_project/decisionTree.ipynb#ch0000027?line=2'>3</a>\u001b[0m     p , n \u001b[39m=\u001b[39m Pos_Neg_Num_all(data)\n\u001b[0;32m      <a href='vscode-notebook-cell:/d%3A/Work/study_material/BDA/mini_project/decisionTree.ipynb#ch0000027?line=3'>4</a>\u001b[0m     entropy_s \u001b[39m=\u001b[39m entropy(p, n)\n",
      "\u001b[1;32md:\\Work\\study_material\\BDA\\mini_project\\decisionTree.ipynb Cell 6'\u001b[0m in \u001b[0;36mAverageInformationEntropy\u001b[1;34m(data, attribute)\u001b[0m\n\u001b[0;32m      <a href='vscode-notebook-cell:/d%3A/Work/study_material/BDA/mini_project/decisionTree.ipynb#ch0000026?line=1'>2</a>\u001b[0m I \u001b[39m=\u001b[39m \u001b[39m0.0\u001b[39m\n\u001b[0;32m      <a href='vscode-notebook-cell:/d%3A/Work/study_material/BDA/mini_project/decisionTree.ipynb#ch0000026?line=2'>3</a>\u001b[0m attribute_categories \u001b[39m=\u001b[39m data[attribute]\u001b[39m.\u001b[39munique()\n\u001b[1;32m----> <a href='vscode-notebook-cell:/d%3A/Work/study_material/BDA/mini_project/decisionTree.ipynb#ch0000026?line=4'>5</a>\u001b[0m p_all , n_all \u001b[39m=\u001b[39m Pos_Neg_Num_all(data)\n\u001b[0;32m      <a href='vscode-notebook-cell:/d%3A/Work/study_material/BDA/mini_project/decisionTree.ipynb#ch0000026?line=6'>7</a>\u001b[0m \u001b[39mfor\u001b[39;00m cat \u001b[39min\u001b[39;00m attribute_categories:\n\u001b[0;32m      <a href='vscode-notebook-cell:/d%3A/Work/study_material/BDA/mini_project/decisionTree.ipynb#ch0000026?line=7'>8</a>\u001b[0m     p, n \u001b[39m=\u001b[39m Pos_Neg_Num(data, attribute, cat)        \n",
      "\u001b[1;32md:\\Work\\study_material\\BDA\\mini_project\\decisionTree.ipynb Cell 3'\u001b[0m in \u001b[0;36mPos_Neg_Num_all\u001b[1;34m(data)\u001b[0m\n\u001b[0;32m     <a href='vscode-notebook-cell:/d%3A/Work/study_material/BDA/mini_project/decisionTree.ipynb#ch0000023?line=9'>10</a>\u001b[0m     n \u001b[39m=\u001b[39m values[\u001b[39mFalse\u001b[39;00m]    \n\u001b[0;32m     <a href='vscode-notebook-cell:/d%3A/Work/study_material/BDA/mini_project/decisionTree.ipynb#ch0000023?line=10'>11</a>\u001b[0m \u001b[39melse\u001b[39;00m:\n\u001b[1;32m---> <a href='vscode-notebook-cell:/d%3A/Work/study_material/BDA/mini_project/decisionTree.ipynb#ch0000023?line=11'>12</a>\u001b[0m     p \u001b[39m=\u001b[39m values[\u001b[39mTrue\u001b[39;49;00m]\n\u001b[0;32m     <a href='vscode-notebook-cell:/d%3A/Work/study_material/BDA/mini_project/decisionTree.ipynb#ch0000023?line=12'>13</a>\u001b[0m     n \u001b[39m=\u001b[39m values[\u001b[39mFalse\u001b[39;00m]\n\u001b[0;32m     <a href='vscode-notebook-cell:/d%3A/Work/study_material/BDA/mini_project/decisionTree.ipynb#ch0000023?line=13'>14</a>\u001b[0m \u001b[39mreturn\u001b[39;00m p, n\n",
      "File \u001b[1;32m~\\AppData\\Roaming\\Python\\Python310\\site-packages\\pandas\\core\\series.py:958\u001b[0m, in \u001b[0;36mSeries.__getitem__\u001b[1;34m(self, key)\u001b[0m\n\u001b[0;32m    <a href='file:///c%3A/Users/yash%20sankpal/AppData/Roaming/Python/Python310/site-packages/pandas/core/series.py?line=954'>955</a>\u001b[0m     \u001b[39mreturn\u001b[39;00m \u001b[39mself\u001b[39m\u001b[39m.\u001b[39m_values[key]\n\u001b[0;32m    <a href='file:///c%3A/Users/yash%20sankpal/AppData/Roaming/Python/Python310/site-packages/pandas/core/series.py?line=956'>957</a>\u001b[0m \u001b[39melif\u001b[39;00m key_is_scalar:\n\u001b[1;32m--> <a href='file:///c%3A/Users/yash%20sankpal/AppData/Roaming/Python/Python310/site-packages/pandas/core/series.py?line=957'>958</a>\u001b[0m     \u001b[39mreturn\u001b[39;00m \u001b[39mself\u001b[39;49m\u001b[39m.\u001b[39;49m_get_value(key)\n\u001b[0;32m    <a href='file:///c%3A/Users/yash%20sankpal/AppData/Roaming/Python/Python310/site-packages/pandas/core/series.py?line=959'>960</a>\u001b[0m \u001b[39mif\u001b[39;00m is_hashable(key):\n\u001b[0;32m    <a href='file:///c%3A/Users/yash%20sankpal/AppData/Roaming/Python/Python310/site-packages/pandas/core/series.py?line=960'>961</a>\u001b[0m     \u001b[39m# Otherwise index.get_value will raise InvalidIndexError\u001b[39;00m\n\u001b[0;32m    <a href='file:///c%3A/Users/yash%20sankpal/AppData/Roaming/Python/Python310/site-packages/pandas/core/series.py?line=961'>962</a>\u001b[0m     \u001b[39mtry\u001b[39;00m:\n\u001b[0;32m    <a href='file:///c%3A/Users/yash%20sankpal/AppData/Roaming/Python/Python310/site-packages/pandas/core/series.py?line=962'>963</a>\u001b[0m         \u001b[39m# For labels that don't resolve as scalars like tuples and frozensets\u001b[39;00m\n",
      "File \u001b[1;32m~\\AppData\\Roaming\\Python\\Python310\\site-packages\\pandas\\core\\series.py:1069\u001b[0m, in \u001b[0;36mSeries._get_value\u001b[1;34m(self, label, takeable)\u001b[0m\n\u001b[0;32m   <a href='file:///c%3A/Users/yash%20sankpal/AppData/Roaming/Python/Python310/site-packages/pandas/core/series.py?line=1065'>1066</a>\u001b[0m     \u001b[39mreturn\u001b[39;00m \u001b[39mself\u001b[39m\u001b[39m.\u001b[39m_values[label]\n\u001b[0;32m   <a href='file:///c%3A/Users/yash%20sankpal/AppData/Roaming/Python/Python310/site-packages/pandas/core/series.py?line=1067'>1068</a>\u001b[0m \u001b[39m# Similar to Index.get_value, but we do not fall back to positional\u001b[39;00m\n\u001b[1;32m-> <a href='file:///c%3A/Users/yash%20sankpal/AppData/Roaming/Python/Python310/site-packages/pandas/core/series.py?line=1068'>1069</a>\u001b[0m loc \u001b[39m=\u001b[39m \u001b[39mself\u001b[39;49m\u001b[39m.\u001b[39;49mindex\u001b[39m.\u001b[39;49mget_loc(label)\n\u001b[0;32m   <a href='file:///c%3A/Users/yash%20sankpal/AppData/Roaming/Python/Python310/site-packages/pandas/core/series.py?line=1069'>1070</a>\u001b[0m \u001b[39mreturn\u001b[39;00m \u001b[39mself\u001b[39m\u001b[39m.\u001b[39mindex\u001b[39m.\u001b[39m_get_values_for_loc(\u001b[39mself\u001b[39m, loc, label)\n",
      "File \u001b[1;32m~\\AppData\\Roaming\\Python\\Python310\\site-packages\\pandas\\core\\indexes\\base.py:3623\u001b[0m, in \u001b[0;36mIndex.get_loc\u001b[1;34m(self, key, method, tolerance)\u001b[0m\n\u001b[0;32m   <a href='file:///c%3A/Users/yash%20sankpal/AppData/Roaming/Python/Python310/site-packages/pandas/core/indexes/base.py?line=3620'>3621</a>\u001b[0m     \u001b[39mreturn\u001b[39;00m \u001b[39mself\u001b[39m\u001b[39m.\u001b[39m_engine\u001b[39m.\u001b[39mget_loc(casted_key)\n\u001b[0;32m   <a href='file:///c%3A/Users/yash%20sankpal/AppData/Roaming/Python/Python310/site-packages/pandas/core/indexes/base.py?line=3621'>3622</a>\u001b[0m \u001b[39mexcept\u001b[39;00m \u001b[39mKeyError\u001b[39;00m \u001b[39mas\u001b[39;00m err:\n\u001b[1;32m-> <a href='file:///c%3A/Users/yash%20sankpal/AppData/Roaming/Python/Python310/site-packages/pandas/core/indexes/base.py?line=3622'>3623</a>\u001b[0m     \u001b[39mraise\u001b[39;00m \u001b[39mKeyError\u001b[39;00m(key) \u001b[39mfrom\u001b[39;00m \u001b[39merr\u001b[39;00m\n\u001b[0;32m   <a href='file:///c%3A/Users/yash%20sankpal/AppData/Roaming/Python/Python310/site-packages/pandas/core/indexes/base.py?line=3623'>3624</a>\u001b[0m \u001b[39mexcept\u001b[39;00m \u001b[39mTypeError\u001b[39;00m:\n\u001b[0;32m   <a href='file:///c%3A/Users/yash%20sankpal/AppData/Roaming/Python/Python310/site-packages/pandas/core/indexes/base.py?line=3624'>3625</a>\u001b[0m     \u001b[39m# If we have a listlike key, _check_indexing_error will raise\u001b[39;00m\n\u001b[0;32m   <a href='file:///c%3A/Users/yash%20sankpal/AppData/Roaming/Python/Python310/site-packages/pandas/core/indexes/base.py?line=3625'>3626</a>\u001b[0m     \u001b[39m#  InvalidIndexError. Otherwise we fall through and re-raise\u001b[39;00m\n\u001b[0;32m   <a href='file:///c%3A/Users/yash%20sankpal/AppData/Roaming/Python/Python310/site-packages/pandas/core/indexes/base.py?line=3626'>3627</a>\u001b[0m     \u001b[39m#  the TypeError.\u001b[39;00m\n\u001b[0;32m   <a href='file:///c%3A/Users/yash%20sankpal/AppData/Roaming/Python/Python310/site-packages/pandas/core/indexes/base.py?line=3627'>3628</a>\u001b[0m     \u001b[39mself\u001b[39m\u001b[39m.\u001b[39m_check_indexing_error(key)\n",
      "\u001b[1;31mKeyError\u001b[0m: True"
     ]
    }
   ],
   "source": [
    "\n",
    "\n",
    "data = pd.read_csv(\"diabetes2.csv\")\n",
    "data_keys = data.keys()[:-1]\n",
    "\n",
    "import pprint\n",
    "t = buildTree(data)\n",
    "pprint.pprint(t)\n",
    "\n",
    "\n",
    "ex = data.iloc[5, :-1]\n",
    "p = predict(t, ex)\n",
    "print(p)\n"
   ]
  }
 ],
 "metadata": {
  "interpreter": {
   "hash": "b89b5cfaba6639976dc87ff2fec6d58faec662063367e2c229c520fe71072417"
  },
  "kernelspec": {
   "display_name": "Python 3.10.2 64-bit",
   "language": "python",
   "name": "python3"
  },
  "language_info": {
   "codemirror_mode": {
    "name": "ipython",
    "version": 3
   },
   "file_extension": ".py",
   "mimetype": "text/x-python",
   "name": "python",
   "nbconvert_exporter": "python",
   "pygments_lexer": "ipython3",
   "version": "3.10.2"
  },
  "orig_nbformat": 4
 },
 "nbformat": 4,
 "nbformat_minor": 2
}
